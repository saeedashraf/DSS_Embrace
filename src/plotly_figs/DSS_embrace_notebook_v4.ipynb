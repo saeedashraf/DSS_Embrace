{
 "cells": [
  {
   "cell_type": "code",
   "execution_count": null,
   "id": "077be694",
   "metadata": {
    "tags": []
   },
   "outputs": [],
   "source": [
    "import os\n",
    "import os.path\n",
    "import random\n",
    "from operator import add\n",
    "from datetime import datetime, date, timedelta\n",
    "\n",
    "import numpy as np\n",
    "import pandas as pd\n",
    "# Andrei: matplotlib and seabord are not used -> comment\n",
    "# from matplotlib import pyplot as plt\n",
    "# import seaborn as sns\n",
    "\n",
    "import shutil\n",
    "\n",
    "# Andrei: ema_workbench is not used -> so comment\n",
    "# import ema_workbench\n",
    "import time\n",
    "\n",
    "# Andrei: scipy.integrate is not used -> so comment\n",
    "# from scipy.integrate import simps\n",
    "from numpy import trapz\n",
    "from decimal import Decimal, ROUND_DOWN, ROUND_UP\n",
    "\n",
    "import sqlite3\n",
    "\n",
    "import plotly.express as px\n",
    "import plotly.graph_objects as go"
   ]
  },
  {
   "cell_type": "markdown",
   "id": "a28bbab1",
   "metadata": {},
   "source": [
    "## Historical"
   ]
  },
  {
   "cell_type": "code",
   "execution_count": null,
   "id": "0b7b6426",
   "metadata": {
    "tags": []
   },
   "outputs": [],
   "source": [
    "\n",
    "df_from_csv_dfq50_years_obs = pd.read_csv('dfq50_years_obs.csv')\n",
    "arr_from_sql_dfq50_years_obs = df_from_csv_dfq50_years_obs['q50_years_obs'].values\n",
    "\n",
    "\n",
    "df_from_csv_dfq75_years_obs = pd.read_csv('dfq75_years_obs.csv')\n",
    "arr_from_sql_dfq75_years_obs = df_from_csv_dfq75_years_obs['q75_years_obs'].values\n",
    "\n",
    "df_from_csv_dfq90_years_obs = pd.read_csv('dfq90_years_obs.csv')\n",
    "arr_from_sql_dfq90_years_obs = df_from_csv_dfq90_years_obs['q90_years_obs'].values\n"
   ]
  },
  {
   "cell_type": "code",
   "execution_count": null,
   "id": "5dd70818",
   "metadata": {
    "tags": []
   },
   "outputs": [],
   "source": [
    "\n",
    "df_from_csv = pd.read_csv('array_data_matrix_HotDays_obs.csv')\n",
    "arr_from_sql_matrix_HotDays_obs = df_from_csv.values.reshape((80, 41, 2))\n",
    "\n"
   ]
  },
  {
   "cell_type": "code",
   "execution_count": null,
   "id": "040f4b54",
   "metadata": {
    "tags": []
   },
   "outputs": [],
   "source": [
    "x_axis_obs = np.array([1981, 1982, 1983, 1984, 1985, 1986, 1987, 1988, 1989, 1990, 1991,\n",
    "       1992, 1993, 1994, 1995, 1996, 1997, 1998, 1999, 2000, 2001, 2002,\n",
    "       2003, 2004, 2005, 2006, 2007, 2008, 2009, 2010, 2011, 2012, 2013,\n",
    "       2014, 2015, 2016, 2017, 2018, 2019, 2020])"
   ]
  },
  {
   "cell_type": "code",
   "execution_count": null,
   "id": "50ab3cff",
   "metadata": {
    "tags": []
   },
   "outputs": [],
   "source": [
    "values = ['1981',  '', '1983',  '',  '1985',  '', '1987', '', '1989', '', '1991', '', '1993', '', '1995', '', '1997', '', '1999',\n",
    " '',  '2001',  '',  '2003',  '', '2005', '', '2007', '', '2009', '', '2011', '', '2013', '', '2015', '', '2017', '', '2019',\n",
    " '']"
   ]
  },
  {
   "cell_type": "code",
   "execution_count": null,
   "id": "5f14d592",
   "metadata": {
    "tags": []
   },
   "outputs": [],
   "source": [
    "p_Step = 1\n",
    "alpha_Fade_obs = 1\n",
    "# Create figure object\n",
    "fig = go.Figure()\n",
    "\n",
    "for i in range(0, len(arr_from_sql_matrix_HotDays_obs), p_Step):\n",
    "    a = arr_from_sql_matrix_HotDays_obs[i, 1:, 1:2].astype(float)\n",
    "    if i == 0:\n",
    "        fig.add_trace(go.Scatter(x=x_axis_obs, y=a[:,0], line=dict(color='green', dash='dash'), opacity=alpha_Fade_obs, name='Observed'))\n",
    "    else:\n",
    "        fig.add_trace(go.Scatter(x=x_axis_obs, y=a[:,0], line=dict(color='green', dash='dash'), opacity=alpha_Fade_obs, name='Sim {}'.format(i)))\n",
    "\n",
    "fig.add_trace(go.Scatter(x=x_axis_obs, y=arr_from_sql_dfq50_years_obs.flatten(), line=dict(color='black', width=2.5), opacity=1, name='Median'))\n",
    "fig.add_trace(go.Scatter(x=x_axis_obs, y=arr_from_sql_dfq75_years_obs.flatten(), line=dict(color='yellow', width=2.5), opacity=1, name='75th percentile'))\n",
    "fig.add_trace(go.Scatter(x=x_axis_obs, y=arr_from_sql_dfq90_years_obs.flatten(), line=dict(color='red', width=2.5), opacity=1, name='90th percentile'))\n",
    "\n",
    "# Customize x-axis\n",
    "fig.update_xaxes(title='Historical number of Hot Days & Nights (M1) Over the Years', tickvals=x_axis_obs, ticktext=values, tickfont=dict(size=15), range=[1981, 2021], showgrid=True)\n",
    "\n",
    "# Customize y-axis\n",
    "fig.update_yaxes(title='Number of Hot Days & Nights', titlefont=dict(size=17), range=[0,30], showgrid=True)\n",
    "\n",
    "# Add title to the figure\n",
    "fig.update_layout(title='Zürich, Historical (1980-2020)', title_font=dict(size=20))\n",
    "\n",
    "fig.show()\n"
   ]
  },
  {
   "cell_type": "markdown",
   "id": "58c006d0",
   "metadata": {},
   "source": [
    "## RCP2.6"
   ]
  },
  {
   "cell_type": "code",
   "execution_count": null,
   "id": "222caa45",
   "metadata": {
    "tags": []
   },
   "outputs": [],
   "source": [
    "\n",
    "df_from_csv_dfq50_years_26 = pd.read_csv('dfq50_years_26.csv')\n",
    "arr_from_sql_dfq50_years_26 = df_from_csv_dfq50_years_26['q50_years_26'].values\n",
    "\n",
    "\n",
    "df_from_csv_dfq75_years_26 = pd.read_csv('dfq75_years_26.csv')\n",
    "arr_from_sql_dfq75_years_26 = df_from_csv_dfq75_years_26['q75_years_26'].values\n",
    "\n",
    "\n",
    "df_from_csv_dfq90_years_26 = pd.read_csv('dfq90_years_26.csv')\n",
    "arr_from_sql_dfq90_years_26 = df_from_csv_dfq90_years_26['q90_years_26'].values"
   ]
  },
  {
   "cell_type": "code",
   "execution_count": null,
   "id": "8ca452e9",
   "metadata": {
    "tags": []
   },
   "outputs": [],
   "source": [
    "\n",
    "df_from_csv = pd.read_csv('array_data_matrix_HotDays_26.csv')\n",
    "arr_from_sql_matrix_HotDays_26 = df_from_csv.values.reshape((5440, 120, 2))\n"
   ]
  },
  {
   "cell_type": "code",
   "execution_count": null,
   "id": "b7d7fc77",
   "metadata": {
    "tags": []
   },
   "outputs": [],
   "source": [
    "p_Step = 20\n",
    "alpha_Fade = 1"
   ]
  },
  {
   "cell_type": "code",
   "execution_count": null,
   "id": "7ae224e4",
   "metadata": {
    "tags": []
   },
   "outputs": [],
   "source": [
    "fig = go.Figure()\n",
    "\n",
    "x_axis = np.arange(2020, 2101, step=1)\n",
    "\n",
    "for i in range(0, len(arr_from_sql_matrix_HotDays_26), p_Step):\n",
    "    a = arr_from_sql_matrix_HotDays_26[i, 1:, 1:2].astype(float)\n",
    "    fig.add_trace(go.Scatter(x=x_axis, y=a[:,0], mode='lines', \n",
    "                             line=dict(color='green', dash='dash'), \n",
    "                             opacity=alpha_Fade, name=f'sim {i//p_Step+1}'))\n",
    "\n",
    "fig.add_trace(go.Scatter(x=x_axis, y=arr_from_sql_dfq50_years_26[:], mode='lines', \n",
    "                         line=dict(color='black', width=1.5), \n",
    "                         opacity=1, name='median'))\n",
    "fig.add_trace(go.Scatter(x=x_axis, y=arr_from_sql_dfq75_years_26[:], mode='lines', \n",
    "                         line=dict(color='blue', width=1.5), \n",
    "                         opacity=1, name='75th percentile'))\n",
    "fig.add_trace(go.Scatter(x=x_axis, y=arr_from_sql_dfq90_years_26[:], mode='lines', \n",
    "                         line=dict(color='yellow', width=2), \n",
    "                         opacity=1, name='90th percentile'))\n",
    "\n",
    "#Customize x-axis\n",
    "fig.update_xaxes(tickvals=np.arange(2020, 2101, 10), tickfont=dict(size=20))\n",
    "\n",
    "#Customize y-axis\n",
    "fig.update_yaxes(title='Number of Hot Days & Nights (M1)', \n",
    "                 titlefont=dict(size=20), \n",
    "                 range=[0, 80], \n",
    "                 tickfont=dict(size=20))\n",
    "\n",
    "#Set subplot title\n",
    "fig.update_layout(title='Zürich, RCP2.6', \n",
    "                  title_font=dict(size=20),\n",
    "                  xaxis_title='Number of Hot Days & Nights (M1) Over the Years in Zürich for RCP2.6  (2020-2100)',\n",
    "                  yaxis_title='Number of Hot Days & Nights')\n",
    "\n",
    "fig.show()"
   ]
  },
  {
   "cell_type": "markdown",
   "id": "1b6ebb41",
   "metadata": {},
   "source": [
    "## RCP 4.5"
   ]
  },
  {
   "cell_type": "code",
   "execution_count": null,
   "id": "bd068c20",
   "metadata": {
    "tags": []
   },
   "outputs": [],
   "source": [
    "\n",
    "df_from_csv_dfq50_years_45 = pd.read_csv('dfq50_years_45.csv')\n",
    "arr_from_sql_dfq50_years_45 = df_from_csv_dfq50_years_45['q50_years_45'].values\n",
    "\n",
    "\n",
    "df_from_csv_dfq75_years_45 = pd.read_csv('dfq75_years_45.csv')\n",
    "arr_from_sql_dfq75_years_45 = df_from_csv_dfq75_years_45['q75_years_45'].values\n",
    "\n",
    "\n",
    "df_from_csv_dfq90_years_45 = pd.read_csv('dfq90_years_45.csv')\n",
    "arr_from_sql_dfq90_years_45 = df_from_csv_dfq90_years_45['q90_years_45'].values\n",
    "\n"
   ]
  },
  {
   "cell_type": "code",
   "execution_count": null,
   "id": "57810c6a",
   "metadata": {
    "tags": []
   },
   "outputs": [],
   "source": [
    "\n",
    "df_from_csv = pd.read_csv('array_data_matrix_HotDays_45.csv')\n",
    "arr_from_sql_matrix_HotDays_45 = df_from_csv.values.reshape((5440, 120, 2))\n",
    "\n"
   ]
  },
  {
   "cell_type": "code",
   "execution_count": null,
   "id": "96af4a6a",
   "metadata": {
    "tags": []
   },
   "outputs": [],
   "source": [
    "fig = go.Figure()\n",
    "\n",
    "x_axis = np.arange(2020, 2101, step=1)\n",
    "\n",
    "for i in range(0, len(arr_from_sql_matrix_HotDays_45), p_Step):\n",
    "    a = arr_from_sql_matrix_HotDays_45[i, 1:, 1:2].astype(float)\n",
    "    fig.add_trace(go.Scatter(x=x_axis, y=a[:,0], mode='lines', \n",
    "                             line=dict(color='orange', dash='dash'), \n",
    "                             opacity=alpha_Fade, name=f'sim {i//p_Step+1}'))\n",
    "\n",
    "fig.add_trace(go.Scatter(x=x_axis, y=arr_from_sql_dfq50_years_45[:], mode='lines', \n",
    "                         line=dict(color='black', width=1.5), \n",
    "                         opacity=1, name='Median'))\n",
    "fig.add_trace(go.Scatter(x=x_axis, y=arr_from_sql_dfq75_years_45[:], mode='lines', \n",
    "                         line=dict(color='blue', width=1.5), \n",
    "                         opacity=1, name='75th percentile'))\n",
    "fig.add_trace(go.Scatter(x=x_axis, y=arr_from_sql_dfq90_years_45[:], mode='lines', \n",
    "                         line=dict(color='yellow', width=2), \n",
    "                         opacity=1, name='90th percentile'))\n",
    "\n",
    "#Customize x-axis\n",
    "fig.update_xaxes(tickvals=np.arange(2020, 2101, 10), tickfont=dict(size=20))\n",
    "\n",
    "#Customize y-axis\n",
    "fig.update_yaxes(title='Number of Hot Days & Nights (M1)', \n",
    "                 titlefont=dict(size=20), \n",
    "                 range=[0, 80], \n",
    "                 tickfont=dict(size=20))\n",
    "\n",
    "#Set subplot title\n",
    "fig.update_layout(title='Zürich, RCP4.5', \n",
    "                  title_font=dict(size=20),\n",
    "                  xaxis_title='Number of Hot Days & Nights (M1) Over the Years in Zürich for RCP4.5  (2020-2100)',\n",
    "                  yaxis_title='Number of Hot Days & Nights')\n",
    "\n",
    "fig.show()\n"
   ]
  },
  {
   "cell_type": "markdown",
   "id": "7f700863",
   "metadata": {},
   "source": [
    "## RCP 8.5"
   ]
  },
  {
   "cell_type": "code",
   "execution_count": null,
   "id": "e6d28d07",
   "metadata": {
    "tags": []
   },
   "outputs": [],
   "source": [
    "\n",
    "df_from_csv_dfq50_years_85 = pd.read_csv('dfq50_years_85.csv')\n",
    "arr_from_sql_dfq50_years_85 = df_from_csv_dfq50_years_85['q50_years_85'].values\n",
    "\n",
    "\n",
    "df_from_csv_dfq75_years_85 = pd.read_csv('dfq75_years_85.csv')\n",
    "arr_from_sql_dfq75_years_85 = df_from_csv_dfq75_years_85['q75_years_85'].values\n",
    "\n",
    "\n",
    "df_from_csv_dfq90_years_85 = pd.read_csv('dfq90_years_85.csv')\n",
    "arr_from_sql_dfq90_years_85 = df_from_csv_dfq90_years_85['q90_years_85'].values\n",
    "\n",
    "#conn.close()"
   ]
  },
  {
   "cell_type": "code",
   "execution_count": null,
   "id": "a359c4dd",
   "metadata": {
    "tags": []
   },
   "outputs": [],
   "source": [
    "\n",
    "# Convert the DataFrame back to a NumPy array\n",
    "df_from_csv = pd.read_csv('array_data_matrix_HotDays_85.csv')\n",
    "arr_from_sql_matrix_HotDays_85 = df_from_csv.values.reshape((5440, 120, 2))\n",
    "\n",
    "# Close the database connection\n",
    "#conn.close()"
   ]
  },
  {
   "cell_type": "code",
   "execution_count": null,
   "id": "1eea7586",
   "metadata": {
    "tags": []
   },
   "outputs": [],
   "source": [
    "fig = go.Figure()\n",
    "\n",
    "x_axis = np.arange(2020, 2101, step=1)\n",
    "\n",
    "for i in range(0, len(arr_from_sql_matrix_HotDays_85), p_Step):\n",
    "    a = arr_from_sql_matrix_HotDays_85[i, 1:, 1:2].astype(float)\n",
    "    fig.add_trace(go.Scatter(x=x_axis, y=a[:,0], mode='lines', \n",
    "                             line=dict(color='red', dash='dash'), \n",
    "                             opacity=alpha_Fade, name=f'sim {i//p_Step+1}'))\n",
    "\n",
    "fig.add_trace(go.Scatter(x=x_axis, y=arr_from_sql_dfq50_years_85[:], mode='lines', \n",
    "                         line=dict(color='black', width=1.5), \n",
    "                         opacity=1, name='Median'))\n",
    "fig.add_trace(go.Scatter(x=x_axis, y=arr_from_sql_dfq75_years_85[:], mode='lines', \n",
    "                         line=dict(color='blue', width=1.5), \n",
    "                         opacity=1, name='75th percentile'))\n",
    "fig.add_trace(go.Scatter(x=x_axis, y=arr_from_sql_dfq90_years_85[:], mode='lines', \n",
    "                         line=dict(color='yellow', width=2), \n",
    "                         opacity=1, name='90th percentile'))\n",
    "\n",
    "#Customize x-axis\n",
    "fig.update_xaxes(tickvals=np.arange(2020, 2101, 10), tickfont=dict(size=20))\n",
    "\n",
    "#Customize y-axis\n",
    "fig.update_yaxes(title='Number of Hot Days & Nights (M1)', \n",
    "                 titlefont=dict(size=20), \n",
    "                 range=[0, 80], \n",
    "                 tickfont=dict(size=20))\n",
    "\n",
    "#Set subplot title\n",
    "fig.update_layout(title='Zürich, RCP8.5', \n",
    "                  title_font=dict(size=20),\n",
    "                  xaxis_title='Number of Hot Days & Nights (M1) Over the Years in Zürich for RCP8.5  (2020-2100)',\n",
    "                  yaxis_title='Number of Hot Days & Nights')\n",
    "\n",
    "fig.show()"
   ]
  },
  {
   "cell_type": "code",
   "execution_count": null,
   "id": "e551eede",
   "metadata": {},
   "outputs": [],
   "source": []
  },
  {
   "cell_type": "markdown",
   "id": "a8d4e080",
   "metadata": {},
   "source": [
    "## END"
   ]
  },
  {
   "cell_type": "code",
   "execution_count": null,
   "id": "bbf42879",
   "metadata": {},
   "outputs": [],
   "source": []
  },
  {
   "cell_type": "markdown",
   "id": "7cc43298",
   "metadata": {},
   "source": [
    "# Box plots"
   ]
  },
  {
   "cell_type": "markdown",
   "id": "0c74d663",
   "metadata": {},
   "source": [
    "### RCP 2.6"
   ]
  },
  {
   "cell_type": "code",
   "execution_count": null,
   "id": "4ab70641",
   "metadata": {
    "tags": []
   },
   "outputs": [],
   "source": [
    "import plotly.express as px\n",
    "import pandas as pd\n",
    "\n",
    "# Load data from CSV file\n",
    "df = pd.read_csv(\"data_total_decadal_26.csv\")\n",
    "df2 = df.iloc[:, -8:]\n",
    "\n",
    "# Set colors for the box plots\n",
    "colors = ['green', 'green', 'green', 'green','green', 'green','green', 'green']\n",
    "\n",
    "# Plot box plots with colors\n",
    "fig = px.box(df2, color_discrete_sequence=colors)\n",
    "\n",
    "# Customize layout\n",
    "fig.update_layout(\n",
    "    title='Zurich RCP2.6',\n",
    "    yaxis_title='Annual number of Hot Days & Nights (M1)',\n",
    "    boxmode='group'\n",
    ")\n",
    "\n",
    "# Show plot\n",
    "fig.show()"
   ]
  },
  {
   "cell_type": "code",
   "execution_count": null,
   "id": "e74d6450",
   "metadata": {},
   "outputs": [],
   "source": []
  },
  {
   "cell_type": "code",
   "execution_count": null,
   "id": "d77578d1",
   "metadata": {},
   "outputs": [],
   "source": []
  },
  {
   "cell_type": "markdown",
   "id": "241ffd9f",
   "metadata": {},
   "source": [
    "### RCP 4.5"
   ]
  },
  {
   "cell_type": "code",
   "execution_count": null,
   "id": "dc9b9210",
   "metadata": {
    "tags": []
   },
   "outputs": [],
   "source": [
    "import plotly.express as px\n",
    "import pandas as pd\n",
    "\n",
    "# Load data from CSV file\n",
    "df = pd.read_csv(\"data_total_decadal_45.csv\")\n",
    "df2 = df.iloc[:, -8:]\n",
    "\n",
    "# Set colors for the box plots\n",
    "colors = ['orange', 'orange', 'orange', 'orange','orange', 'orange','orange', 'orange']\n",
    "\n",
    "# Plot box plots with colors\n",
    "fig = px.box(df2, color_discrete_sequence=colors)\n",
    "\n",
    "# Customize layout\n",
    "fig.update_layout(\n",
    "    title='Zurich RCP4.5',\n",
    "    yaxis_title='Annual number of Hot Days & Nights (M1)',\n",
    "    boxmode='group'\n",
    ")\n",
    "\n",
    "# Show plot\n",
    "fig.show()"
   ]
  },
  {
   "cell_type": "code",
   "execution_count": null,
   "id": "8bf98d30",
   "metadata": {},
   "outputs": [],
   "source": []
  },
  {
   "cell_type": "code",
   "execution_count": null,
   "id": "3b08b2d2",
   "metadata": {},
   "outputs": [],
   "source": []
  },
  {
   "cell_type": "markdown",
   "id": "34e88b3d",
   "metadata": {},
   "source": [
    "### RCP 8.5"
   ]
  },
  {
   "cell_type": "code",
   "execution_count": null,
   "id": "db1cb825",
   "metadata": {
    "tags": []
   },
   "outputs": [],
   "source": [
    "import plotly.express as px\n",
    "import pandas as pd\n",
    "\n",
    "# Load data from CSV file\n",
    "df = pd.read_csv(\"data_total_decadal_85.csv\")\n",
    "df2 = df.iloc[:, -8:]\n",
    "\n",
    "# Set colors for the box plots\n",
    "colors = ['red', 'red', 'red', 'red','red', 'red','red', 'red']\n",
    "\n",
    "# Plot box plots with colors\n",
    "fig = px.box(df2, color_discrete_sequence=colors)\n",
    "\n",
    "# Customize layout\n",
    "fig.update_layout(\n",
    "    title='Zurich RCP8.5',\n",
    "    yaxis_title='Annual number of Hot Days & Nights (M1)',\n",
    "    boxmode='group'\n",
    ")\n",
    "\n",
    "# Show plot\n",
    "fig.show()\n"
   ]
  },
  {
   "cell_type": "code",
   "execution_count": null,
   "id": "10d99aed",
   "metadata": {},
   "outputs": [],
   "source": []
  },
  {
   "cell_type": "code",
   "execution_count": null,
   "id": "f07cad9a",
   "metadata": {},
   "outputs": [],
   "source": []
  },
  {
   "cell_type": "code",
   "execution_count": null,
   "id": "41cf95d4",
   "metadata": {},
   "outputs": [],
   "source": []
  },
  {
   "cell_type": "code",
   "execution_count": null,
   "id": "c7fbeacd",
   "metadata": {},
   "outputs": [],
   "source": []
  }
 ],
 "metadata": {
  "kernelspec": {
   "display_name": "Python 3 (ipykernel)",
   "language": "python",
   "name": "python3"
  },
  "language_info": {
   "codemirror_mode": {
    "name": "ipython",
    "version": 3
   },
   "file_extension": ".py",
   "mimetype": "text/x-python",
   "name": "python",
   "nbconvert_exporter": "python",
   "pygments_lexer": "ipython3",
   "version": "3.10.11"
  }
 },
 "nbformat": 4,
 "nbformat_minor": 5
}
